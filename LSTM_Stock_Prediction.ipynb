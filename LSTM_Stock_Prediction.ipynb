{
  "nbformat": 4,
  "nbformat_minor": 0,
  "metadata": {
    "colab": {
      "provenance": [],
      "collapsed_sections": [],
      "authorship_tag": "ABX9TyOu0HIjQPWlF2LdlB3pqggq",
      "include_colab_link": true
    },
    "kernelspec": {
      "name": "python3",
      "display_name": "Python 3"
    },
    "language_info": {
      "name": "python"
    }
  },
  "cells": [
    {
      "cell_type": "markdown",
      "metadata": {
        "id": "view-in-github",
        "colab_type": "text"
      },
      "source": [
        "<a href=\"https://colab.research.google.com/github/ankojha/test-repository/blob/master/LSTM_Stock_Prediction.ipynb\" target=\"_parent\"><img src=\"https://colab.research.google.com/assets/colab-badge.svg\" alt=\"Open In Colab\"/></a>"
      ]
    },
    {
      "cell_type": "code",
      "execution_count": 85,
      "metadata": {
        "id": "626haG1mY-gw"
      },
      "outputs": [],
      "source": [
        "import pandas as pd\n",
        "import numpy as np\n",
        "\n",
        "import matplotlib.pyplot as plt\n",
        "%matplotlib inline\n",
        "\n",
        "from matplotlib.pylab import rcParams\n",
        "rcParams['figure.figsize']=20,10\n",
        "\n",
        "from sklearn.preprocessing import MinMaxScaler\n",
        "\n",
        "import datetime\n",
        "\n",
        "import warnings\n",
        "warnings.filterwarnings(\"ignore\")\n",
        "\n",
        "import tensorflow as tf"
      ]
    },
    {
      "cell_type": "code",
      "source": [
        "!pip install yfinance"
      ],
      "metadata": {
        "id": "sMCemMBVZBQK",
        "colab": {
          "base_uri": "https://localhost:8080/",
          "height": 524
        },
        "outputId": "a6019bd9-a7d7-474f-801a-da795af254aa"
      },
      "execution_count": 7,
      "outputs": [
        {
          "output_type": "stream",
          "name": "stdout",
          "text": [
            "Looking in indexes: https://pypi.org/simple, https://us-python.pkg.dev/colab-wheels/public/simple/\n",
            "Collecting yfinance\n",
            "  Downloading yfinance-0.1.74-py2.py3-none-any.whl (27 kB)\n",
            "Requirement already satisfied: lxml>=4.5.1 in /usr/local/lib/python3.7/dist-packages (from yfinance) (4.9.1)\n",
            "Requirement already satisfied: multitasking>=0.0.7 in /usr/local/lib/python3.7/dist-packages (from yfinance) (0.0.11)\n",
            "Requirement already satisfied: pandas>=0.24.0 in /usr/local/lib/python3.7/dist-packages (from yfinance) (1.3.5)\n",
            "Requirement already satisfied: numpy>=1.15 in /usr/local/lib/python3.7/dist-packages (from yfinance) (1.21.6)\n",
            "Collecting requests>=2.26\n",
            "  Downloading requests-2.28.1-py3-none-any.whl (62 kB)\n",
            "\u001b[K     |████████████████████████████████| 62 kB 1.1 MB/s \n",
            "\u001b[?25hRequirement already satisfied: python-dateutil>=2.7.3 in /usr/local/lib/python3.7/dist-packages (from pandas>=0.24.0->yfinance) (2.8.2)\n",
            "Requirement already satisfied: pytz>=2017.3 in /usr/local/lib/python3.7/dist-packages (from pandas>=0.24.0->yfinance) (2022.2.1)\n",
            "Requirement already satisfied: six>=1.5 in /usr/local/lib/python3.7/dist-packages (from python-dateutil>=2.7.3->pandas>=0.24.0->yfinance) (1.15.0)\n",
            "Requirement already satisfied: certifi>=2017.4.17 in /usr/local/lib/python3.7/dist-packages (from requests>=2.26->yfinance) (2022.6.15)\n",
            "Requirement already satisfied: charset-normalizer<3,>=2 in /usr/local/lib/python3.7/dist-packages (from requests>=2.26->yfinance) (2.1.1)\n",
            "Requirement already satisfied: urllib3<1.27,>=1.21.1 in /usr/local/lib/python3.7/dist-packages (from requests>=2.26->yfinance) (1.24.3)\n",
            "Requirement already satisfied: idna<4,>=2.5 in /usr/local/lib/python3.7/dist-packages (from requests>=2.26->yfinance) (2.10)\n",
            "Installing collected packages: requests, yfinance\n",
            "  Attempting uninstall: requests\n",
            "    Found existing installation: requests 2.23.0\n",
            "    Uninstalling requests-2.23.0:\n",
            "      Successfully uninstalled requests-2.23.0\n",
            "Successfully installed requests-2.28.1 yfinance-0.1.74\n"
          ]
        },
        {
          "output_type": "display_data",
          "data": {
            "application/vnd.colab-display-data+json": {
              "pip_warning": {
                "packages": [
                  "requests"
                ]
              }
            }
          },
          "metadata": {}
        }
      ]
    },
    {
      "cell_type": "code",
      "source": [
        "import yfinance as yf"
      ],
      "metadata": {
        "id": "lVh9mGaQkqx4"
      },
      "execution_count": 86,
      "outputs": []
    },
    {
      "cell_type": "code",
      "source": [
        "symbol = 'AAPL'\n",
        "end = datetime.date.today()\n",
        "start = end.replace(year = 2010)\n",
        "\n",
        "\n",
        "# Read data \n",
        "df = yf.download(symbol,start,end)\n",
        "\n",
        "df.tail()"
      ],
      "metadata": {
        "colab": {
          "base_uri": "https://localhost:8080/",
          "height": 256
        },
        "id": "LfEVSkY8kvWH",
        "outputId": "de69c7ea-ef14-43a2-c4f5-a988c37bb0e0"
      },
      "execution_count": 155,
      "outputs": [
        {
          "output_type": "stream",
          "name": "stdout",
          "text": [
            "\r[*********************100%***********************]  1 of 1 completed\n"
          ]
        },
        {
          "output_type": "execute_result",
          "data": {
            "text/plain": [
              "                  Open        High         Low       Close   Adj Close  \\\n",
              "Date                                                                     \n",
              "2022-09-26  149.660004  153.770004  149.639999  150.770004  150.770004   \n",
              "2022-09-27  152.740005  154.720001  149.949997  151.759995  151.759995   \n",
              "2022-09-28  147.639999  150.639999  144.839996  149.839996  149.839996   \n",
              "2022-09-29  146.100006  146.720001  140.679993  142.479996  142.479996   \n",
              "2022-09-30  141.279999  143.100006  138.000000  138.199997  138.199997   \n",
              "\n",
              "               Volume  \n",
              "Date                   \n",
              "2022-09-26   93339400  \n",
              "2022-09-27   84442700  \n",
              "2022-09-28  146691400  \n",
              "2022-09-29  128138200  \n",
              "2022-09-30  124705400  "
            ],
            "text/html": [
              "\n",
              "  <div id=\"df-ad408f3d-149b-4faa-8f71-b5808f1b9679\">\n",
              "    <div class=\"colab-df-container\">\n",
              "      <div>\n",
              "<style scoped>\n",
              "    .dataframe tbody tr th:only-of-type {\n",
              "        vertical-align: middle;\n",
              "    }\n",
              "\n",
              "    .dataframe tbody tr th {\n",
              "        vertical-align: top;\n",
              "    }\n",
              "\n",
              "    .dataframe thead th {\n",
              "        text-align: right;\n",
              "    }\n",
              "</style>\n",
              "<table border=\"1\" class=\"dataframe\">\n",
              "  <thead>\n",
              "    <tr style=\"text-align: right;\">\n",
              "      <th></th>\n",
              "      <th>Open</th>\n",
              "      <th>High</th>\n",
              "      <th>Low</th>\n",
              "      <th>Close</th>\n",
              "      <th>Adj Close</th>\n",
              "      <th>Volume</th>\n",
              "    </tr>\n",
              "    <tr>\n",
              "      <th>Date</th>\n",
              "      <th></th>\n",
              "      <th></th>\n",
              "      <th></th>\n",
              "      <th></th>\n",
              "      <th></th>\n",
              "      <th></th>\n",
              "    </tr>\n",
              "  </thead>\n",
              "  <tbody>\n",
              "    <tr>\n",
              "      <th>2022-09-26</th>\n",
              "      <td>149.660004</td>\n",
              "      <td>153.770004</td>\n",
              "      <td>149.639999</td>\n",
              "      <td>150.770004</td>\n",
              "      <td>150.770004</td>\n",
              "      <td>93339400</td>\n",
              "    </tr>\n",
              "    <tr>\n",
              "      <th>2022-09-27</th>\n",
              "      <td>152.740005</td>\n",
              "      <td>154.720001</td>\n",
              "      <td>149.949997</td>\n",
              "      <td>151.759995</td>\n",
              "      <td>151.759995</td>\n",
              "      <td>84442700</td>\n",
              "    </tr>\n",
              "    <tr>\n",
              "      <th>2022-09-28</th>\n",
              "      <td>147.639999</td>\n",
              "      <td>150.639999</td>\n",
              "      <td>144.839996</td>\n",
              "      <td>149.839996</td>\n",
              "      <td>149.839996</td>\n",
              "      <td>146691400</td>\n",
              "    </tr>\n",
              "    <tr>\n",
              "      <th>2022-09-29</th>\n",
              "      <td>146.100006</td>\n",
              "      <td>146.720001</td>\n",
              "      <td>140.679993</td>\n",
              "      <td>142.479996</td>\n",
              "      <td>142.479996</td>\n",
              "      <td>128138200</td>\n",
              "    </tr>\n",
              "    <tr>\n",
              "      <th>2022-09-30</th>\n",
              "      <td>141.279999</td>\n",
              "      <td>143.100006</td>\n",
              "      <td>138.000000</td>\n",
              "      <td>138.199997</td>\n",
              "      <td>138.199997</td>\n",
              "      <td>124705400</td>\n",
              "    </tr>\n",
              "  </tbody>\n",
              "</table>\n",
              "</div>\n",
              "      <button class=\"colab-df-convert\" onclick=\"convertToInteractive('df-ad408f3d-149b-4faa-8f71-b5808f1b9679')\"\n",
              "              title=\"Convert this dataframe to an interactive table.\"\n",
              "              style=\"display:none;\">\n",
              "        \n",
              "  <svg xmlns=\"http://www.w3.org/2000/svg\" height=\"24px\"viewBox=\"0 0 24 24\"\n",
              "       width=\"24px\">\n",
              "    <path d=\"M0 0h24v24H0V0z\" fill=\"none\"/>\n",
              "    <path d=\"M18.56 5.44l.94 2.06.94-2.06 2.06-.94-2.06-.94-.94-2.06-.94 2.06-2.06.94zm-11 1L8.5 8.5l.94-2.06 2.06-.94-2.06-.94L8.5 2.5l-.94 2.06-2.06.94zm10 10l.94 2.06.94-2.06 2.06-.94-2.06-.94-.94-2.06-.94 2.06-2.06.94z\"/><path d=\"M17.41 7.96l-1.37-1.37c-.4-.4-.92-.59-1.43-.59-.52 0-1.04.2-1.43.59L10.3 9.45l-7.72 7.72c-.78.78-.78 2.05 0 2.83L4 21.41c.39.39.9.59 1.41.59.51 0 1.02-.2 1.41-.59l7.78-7.78 2.81-2.81c.8-.78.8-2.07 0-2.86zM5.41 20L4 18.59l7.72-7.72 1.47 1.35L5.41 20z\"/>\n",
              "  </svg>\n",
              "      </button>\n",
              "      \n",
              "  <style>\n",
              "    .colab-df-container {\n",
              "      display:flex;\n",
              "      flex-wrap:wrap;\n",
              "      gap: 12px;\n",
              "    }\n",
              "\n",
              "    .colab-df-convert {\n",
              "      background-color: #E8F0FE;\n",
              "      border: none;\n",
              "      border-radius: 50%;\n",
              "      cursor: pointer;\n",
              "      display: none;\n",
              "      fill: #1967D2;\n",
              "      height: 32px;\n",
              "      padding: 0 0 0 0;\n",
              "      width: 32px;\n",
              "    }\n",
              "\n",
              "    .colab-df-convert:hover {\n",
              "      background-color: #E2EBFA;\n",
              "      box-shadow: 0px 1px 2px rgba(60, 64, 67, 0.3), 0px 1px 3px 1px rgba(60, 64, 67, 0.15);\n",
              "      fill: #174EA6;\n",
              "    }\n",
              "\n",
              "    [theme=dark] .colab-df-convert {\n",
              "      background-color: #3B4455;\n",
              "      fill: #D2E3FC;\n",
              "    }\n",
              "\n",
              "    [theme=dark] .colab-df-convert:hover {\n",
              "      background-color: #434B5C;\n",
              "      box-shadow: 0px 1px 3px 1px rgba(0, 0, 0, 0.15);\n",
              "      filter: drop-shadow(0px 1px 2px rgba(0, 0, 0, 0.3));\n",
              "      fill: #FFFFFF;\n",
              "    }\n",
              "  </style>\n",
              "\n",
              "      <script>\n",
              "        const buttonEl =\n",
              "          document.querySelector('#df-ad408f3d-149b-4faa-8f71-b5808f1b9679 button.colab-df-convert');\n",
              "        buttonEl.style.display =\n",
              "          google.colab.kernel.accessAllowed ? 'block' : 'none';\n",
              "\n",
              "        async function convertToInteractive(key) {\n",
              "          const element = document.querySelector('#df-ad408f3d-149b-4faa-8f71-b5808f1b9679');\n",
              "          const dataTable =\n",
              "            await google.colab.kernel.invokeFunction('convertToInteractive',\n",
              "                                                     [key], {});\n",
              "          if (!dataTable) return;\n",
              "\n",
              "          const docLinkHtml = 'Like what you see? Visit the ' +\n",
              "            '<a target=\"_blank\" href=https://colab.research.google.com/notebooks/data_table.ipynb>data table notebook</a>'\n",
              "            + ' to learn more about interactive tables.';\n",
              "          element.innerHTML = '';\n",
              "          dataTable['output_type'] = 'display_data';\n",
              "          await google.colab.output.renderOutput(dataTable, element);\n",
              "          const docLink = document.createElement('div');\n",
              "          docLink.innerHTML = docLinkHtml;\n",
              "          element.appendChild(docLink);\n",
              "        }\n",
              "      </script>\n",
              "    </div>\n",
              "  </div>\n",
              "  "
            ]
          },
          "metadata": {},
          "execution_count": 155
        }
      ]
    },
    {
      "cell_type": "code",
      "source": [
        "df['Close']"
      ],
      "metadata": {
        "colab": {
          "base_uri": "https://localhost:8080/"
        },
        "id": "16jgZfk6oG6n",
        "outputId": "d20b4a82-85e3-422c-d339-67227e72e01b"
      },
      "execution_count": 156,
      "outputs": [
        {
          "output_type": "execute_result",
          "data": {
            "text/plain": [
              "Date\n",
              "2010-10-01     10.090000\n",
              "2010-10-04      9.951429\n",
              "2010-10-05     10.319286\n",
              "2010-10-06     10.328214\n",
              "2010-10-07     10.329286\n",
              "                 ...    \n",
              "2022-09-26    150.770004\n",
              "2022-09-27    151.759995\n",
              "2022-09-28    149.839996\n",
              "2022-09-29    142.479996\n",
              "2022-09-30    138.199997\n",
              "Name: Close, Length: 3021, dtype: float64"
            ]
          },
          "metadata": {},
          "execution_count": 156
        }
      ]
    },
    {
      "cell_type": "code",
      "source": [
        "Y = df['Close']"
      ],
      "metadata": {
        "id": "FbilI-KBoPVv"
      },
      "execution_count": 157,
      "outputs": []
    },
    {
      "cell_type": "code",
      "source": [
        "from keras.models import Sequential\n",
        "from keras.layers import LSTM,Dropout,Dense"
      ],
      "metadata": {
        "id": "uNfriJNwoTLZ"
      },
      "execution_count": 158,
      "outputs": []
    },
    {
      "cell_type": "code",
      "source": [
        "df"
      ],
      "metadata": {
        "colab": {
          "base_uri": "https://localhost:8080/",
          "height": 455
        },
        "id": "w6fNkFZroYQv",
        "outputId": "4ff9bd26-5e47-4bd9-837d-ce50c5d22e4b"
      },
      "execution_count": 159,
      "outputs": [
        {
          "output_type": "execute_result",
          "data": {
            "text/plain": [
              "                  Open        High         Low       Close   Adj Close  \\\n",
              "Date                                                                     \n",
              "2010-10-01   10.219643   10.235000   10.048214   10.090000    8.615163   \n",
              "2010-10-04   10.057143   10.103571    9.920357    9.951429    8.496850   \n",
              "2010-10-05   10.071429   10.337500   10.065000   10.319286    8.810935   \n",
              "2010-10-06   10.342500   10.428214   10.187857   10.328214    8.818561   \n",
              "2010-10-07   10.369286   10.374286   10.246786   10.329286    8.819473   \n",
              "...                ...         ...         ...         ...         ...   \n",
              "2022-09-26  149.660004  153.770004  149.639999  150.770004  150.770004   \n",
              "2022-09-27  152.740005  154.720001  149.949997  151.759995  151.759995   \n",
              "2022-09-28  147.639999  150.639999  144.839996  149.839996  149.839996   \n",
              "2022-09-29  146.100006  146.720001  140.679993  142.479996  142.479996   \n",
              "2022-09-30  141.279999  143.100006  138.000000  138.199997  138.199997   \n",
              "\n",
              "               Volume  \n",
              "Date                   \n",
              "2010-10-01  448142800  \n",
              "2010-10-04  435302000  \n",
              "2010-10-05  501967200  \n",
              "2010-10-06  670868800  \n",
              "2010-10-07  408399600  \n",
              "...               ...  \n",
              "2022-09-26   93339400  \n",
              "2022-09-27   84442700  \n",
              "2022-09-28  146691400  \n",
              "2022-09-29  128138200  \n",
              "2022-09-30  124705400  \n",
              "\n",
              "[3021 rows x 6 columns]"
            ],
            "text/html": [
              "\n",
              "  <div id=\"df-fedde63a-3e53-4b18-86f1-54073244425a\">\n",
              "    <div class=\"colab-df-container\">\n",
              "      <div>\n",
              "<style scoped>\n",
              "    .dataframe tbody tr th:only-of-type {\n",
              "        vertical-align: middle;\n",
              "    }\n",
              "\n",
              "    .dataframe tbody tr th {\n",
              "        vertical-align: top;\n",
              "    }\n",
              "\n",
              "    .dataframe thead th {\n",
              "        text-align: right;\n",
              "    }\n",
              "</style>\n",
              "<table border=\"1\" class=\"dataframe\">\n",
              "  <thead>\n",
              "    <tr style=\"text-align: right;\">\n",
              "      <th></th>\n",
              "      <th>Open</th>\n",
              "      <th>High</th>\n",
              "      <th>Low</th>\n",
              "      <th>Close</th>\n",
              "      <th>Adj Close</th>\n",
              "      <th>Volume</th>\n",
              "    </tr>\n",
              "    <tr>\n",
              "      <th>Date</th>\n",
              "      <th></th>\n",
              "      <th></th>\n",
              "      <th></th>\n",
              "      <th></th>\n",
              "      <th></th>\n",
              "      <th></th>\n",
              "    </tr>\n",
              "  </thead>\n",
              "  <tbody>\n",
              "    <tr>\n",
              "      <th>2010-10-01</th>\n",
              "      <td>10.219643</td>\n",
              "      <td>10.235000</td>\n",
              "      <td>10.048214</td>\n",
              "      <td>10.090000</td>\n",
              "      <td>8.615163</td>\n",
              "      <td>448142800</td>\n",
              "    </tr>\n",
              "    <tr>\n",
              "      <th>2010-10-04</th>\n",
              "      <td>10.057143</td>\n",
              "      <td>10.103571</td>\n",
              "      <td>9.920357</td>\n",
              "      <td>9.951429</td>\n",
              "      <td>8.496850</td>\n",
              "      <td>435302000</td>\n",
              "    </tr>\n",
              "    <tr>\n",
              "      <th>2010-10-05</th>\n",
              "      <td>10.071429</td>\n",
              "      <td>10.337500</td>\n",
              "      <td>10.065000</td>\n",
              "      <td>10.319286</td>\n",
              "      <td>8.810935</td>\n",
              "      <td>501967200</td>\n",
              "    </tr>\n",
              "    <tr>\n",
              "      <th>2010-10-06</th>\n",
              "      <td>10.342500</td>\n",
              "      <td>10.428214</td>\n",
              "      <td>10.187857</td>\n",
              "      <td>10.328214</td>\n",
              "      <td>8.818561</td>\n",
              "      <td>670868800</td>\n",
              "    </tr>\n",
              "    <tr>\n",
              "      <th>2010-10-07</th>\n",
              "      <td>10.369286</td>\n",
              "      <td>10.374286</td>\n",
              "      <td>10.246786</td>\n",
              "      <td>10.329286</td>\n",
              "      <td>8.819473</td>\n",
              "      <td>408399600</td>\n",
              "    </tr>\n",
              "    <tr>\n",
              "      <th>...</th>\n",
              "      <td>...</td>\n",
              "      <td>...</td>\n",
              "      <td>...</td>\n",
              "      <td>...</td>\n",
              "      <td>...</td>\n",
              "      <td>...</td>\n",
              "    </tr>\n",
              "    <tr>\n",
              "      <th>2022-09-26</th>\n",
              "      <td>149.660004</td>\n",
              "      <td>153.770004</td>\n",
              "      <td>149.639999</td>\n",
              "      <td>150.770004</td>\n",
              "      <td>150.770004</td>\n",
              "      <td>93339400</td>\n",
              "    </tr>\n",
              "    <tr>\n",
              "      <th>2022-09-27</th>\n",
              "      <td>152.740005</td>\n",
              "      <td>154.720001</td>\n",
              "      <td>149.949997</td>\n",
              "      <td>151.759995</td>\n",
              "      <td>151.759995</td>\n",
              "      <td>84442700</td>\n",
              "    </tr>\n",
              "    <tr>\n",
              "      <th>2022-09-28</th>\n",
              "      <td>147.639999</td>\n",
              "      <td>150.639999</td>\n",
              "      <td>144.839996</td>\n",
              "      <td>149.839996</td>\n",
              "      <td>149.839996</td>\n",
              "      <td>146691400</td>\n",
              "    </tr>\n",
              "    <tr>\n",
              "      <th>2022-09-29</th>\n",
              "      <td>146.100006</td>\n",
              "      <td>146.720001</td>\n",
              "      <td>140.679993</td>\n",
              "      <td>142.479996</td>\n",
              "      <td>142.479996</td>\n",
              "      <td>128138200</td>\n",
              "    </tr>\n",
              "    <tr>\n",
              "      <th>2022-09-30</th>\n",
              "      <td>141.279999</td>\n",
              "      <td>143.100006</td>\n",
              "      <td>138.000000</td>\n",
              "      <td>138.199997</td>\n",
              "      <td>138.199997</td>\n",
              "      <td>124705400</td>\n",
              "    </tr>\n",
              "  </tbody>\n",
              "</table>\n",
              "<p>3021 rows × 6 columns</p>\n",
              "</div>\n",
              "      <button class=\"colab-df-convert\" onclick=\"convertToInteractive('df-fedde63a-3e53-4b18-86f1-54073244425a')\"\n",
              "              title=\"Convert this dataframe to an interactive table.\"\n",
              "              style=\"display:none;\">\n",
              "        \n",
              "  <svg xmlns=\"http://www.w3.org/2000/svg\" height=\"24px\"viewBox=\"0 0 24 24\"\n",
              "       width=\"24px\">\n",
              "    <path d=\"M0 0h24v24H0V0z\" fill=\"none\"/>\n",
              "    <path d=\"M18.56 5.44l.94 2.06.94-2.06 2.06-.94-2.06-.94-.94-2.06-.94 2.06-2.06.94zm-11 1L8.5 8.5l.94-2.06 2.06-.94-2.06-.94L8.5 2.5l-.94 2.06-2.06.94zm10 10l.94 2.06.94-2.06 2.06-.94-2.06-.94-.94-2.06-.94 2.06-2.06.94z\"/><path d=\"M17.41 7.96l-1.37-1.37c-.4-.4-.92-.59-1.43-.59-.52 0-1.04.2-1.43.59L10.3 9.45l-7.72 7.72c-.78.78-.78 2.05 0 2.83L4 21.41c.39.39.9.59 1.41.59.51 0 1.02-.2 1.41-.59l7.78-7.78 2.81-2.81c.8-.78.8-2.07 0-2.86zM5.41 20L4 18.59l7.72-7.72 1.47 1.35L5.41 20z\"/>\n",
              "  </svg>\n",
              "      </button>\n",
              "      \n",
              "  <style>\n",
              "    .colab-df-container {\n",
              "      display:flex;\n",
              "      flex-wrap:wrap;\n",
              "      gap: 12px;\n",
              "    }\n",
              "\n",
              "    .colab-df-convert {\n",
              "      background-color: #E8F0FE;\n",
              "      border: none;\n",
              "      border-radius: 50%;\n",
              "      cursor: pointer;\n",
              "      display: none;\n",
              "      fill: #1967D2;\n",
              "      height: 32px;\n",
              "      padding: 0 0 0 0;\n",
              "      width: 32px;\n",
              "    }\n",
              "\n",
              "    .colab-df-convert:hover {\n",
              "      background-color: #E2EBFA;\n",
              "      box-shadow: 0px 1px 2px rgba(60, 64, 67, 0.3), 0px 1px 3px 1px rgba(60, 64, 67, 0.15);\n",
              "      fill: #174EA6;\n",
              "    }\n",
              "\n",
              "    [theme=dark] .colab-df-convert {\n",
              "      background-color: #3B4455;\n",
              "      fill: #D2E3FC;\n",
              "    }\n",
              "\n",
              "    [theme=dark] .colab-df-convert:hover {\n",
              "      background-color: #434B5C;\n",
              "      box-shadow: 0px 1px 3px 1px rgba(0, 0, 0, 0.15);\n",
              "      filter: drop-shadow(0px 1px 2px rgba(0, 0, 0, 0.3));\n",
              "      fill: #FFFFFF;\n",
              "    }\n",
              "  </style>\n",
              "\n",
              "      <script>\n",
              "        const buttonEl =\n",
              "          document.querySelector('#df-fedde63a-3e53-4b18-86f1-54073244425a button.colab-df-convert');\n",
              "        buttonEl.style.display =\n",
              "          google.colab.kernel.accessAllowed ? 'block' : 'none';\n",
              "\n",
              "        async function convertToInteractive(key) {\n",
              "          const element = document.querySelector('#df-fedde63a-3e53-4b18-86f1-54073244425a');\n",
              "          const dataTable =\n",
              "            await google.colab.kernel.invokeFunction('convertToInteractive',\n",
              "                                                     [key], {});\n",
              "          if (!dataTable) return;\n",
              "\n",
              "          const docLinkHtml = 'Like what you see? Visit the ' +\n",
              "            '<a target=\"_blank\" href=https://colab.research.google.com/notebooks/data_table.ipynb>data table notebook</a>'\n",
              "            + ' to learn more about interactive tables.';\n",
              "          element.innerHTML = '';\n",
              "          dataTable['output_type'] = 'display_data';\n",
              "          await google.colab.output.renderOutput(dataTable, element);\n",
              "          const docLink = document.createElement('div');\n",
              "          docLink.innerHTML = docLinkHtml;\n",
              "          element.appendChild(docLink);\n",
              "        }\n",
              "      </script>\n",
              "    </div>\n",
              "  </div>\n",
              "  "
            ]
          },
          "metadata": {},
          "execution_count": 159
        }
      ]
    },
    {
      "cell_type": "code",
      "source": [
        "plt.figure(figsize=(16,8))\n",
        "plt.plot(df[\"Close\"],label='Close Price history')"
      ],
      "metadata": {
        "colab": {
          "base_uri": "https://localhost:8080/",
          "height": 501
        },
        "id": "iwfuZ175lT6B",
        "outputId": "61db9dbc-8bb5-4cc8-ef55-014e75cd6d57"
      },
      "execution_count": 160,
      "outputs": [
        {
          "output_type": "execute_result",
          "data": {
            "text/plain": [
              "[<matplotlib.lines.Line2D at 0x7f122bb03750>]"
            ]
          },
          "metadata": {},
          "execution_count": 160
        },
        {
          "output_type": "display_data",
          "data": {
            "text/plain": [
              "<Figure size 1152x576 with 1 Axes>"
            ],
            "image/png": "[encoded data removed]"
          },
          "metadata": {
            "needs_background": "light"
          }
        }
      ]
    },
    {
      "cell_type": "code",
      "source": [
        "training_data = df.filter(['Close'])\n",
        "dataset = training_data.values\n",
        "training_len = int(np.ceil( len(dataset) * .95 ))\n",
        "training_len"
      ],
      "metadata": {
        "colab": {
          "base_uri": "https://localhost:8080/"
        },
        "id": "DDAfmp81z6_-",
        "outputId": "eb4559cb-36e5-4c4c-d014-049749a589d2"
      },
      "execution_count": 169,
      "outputs": [
        {
          "output_type": "execute_result",
          "data": {
            "text/plain": [
              "2870"
            ]
          },
          "metadata": {},
          "execution_count": 169
        }
      ]
    },
    {
      "cell_type": "code",
      "source": [
        "scaler = MinMaxScaler(feature_range=(0,1))\n",
        "scaled_data = scaler.fit_transform(dataset)\n",
        "scaled_data"
      ],
      "metadata": {
        "colab": {
          "base_uri": "https://localhost:8080/"
        },
        "id": "2MwqD5LV0EZI",
        "outputId": "cb3da8bf-ef46-413b-ae7e-1f6dbb298ae6"
      },
      "execution_count": 170,
      "outputs": [
        {
          "output_type": "execute_result",
          "data": {
            "text/plain": [
              "array([[8.05369877e-04],\n",
              "       [0.00000000e+00],\n",
              "       [2.13797540e-03],\n",
              "       ...,\n",
              "       [8.13028790e-01],\n",
              "       [7.70252654e-01],\n",
              "       [7.45377410e-01]])"
            ]
          },
          "metadata": {},
          "execution_count": 170
        }
      ]
    },
    {
      "cell_type": "code",
      "source": [
        "train_data = scaled_data[0:int(training_len), :]\n",
        "x_train = []\n",
        "y_train = []\n",
        "\n",
        "for i in range(60, len(train_data)):\n",
        "    x_train.append(train_data[i-60:i, 0])\n",
        "    y_train.append(train_data[i, 0])\n",
        "    if i<= 61:\n",
        "        print(x_train)\n",
        "        print(y_train)\n",
        "        print()\n"
      ],
      "metadata": {
        "colab": {
          "base_uri": "https://localhost:8080/"
        },
        "id": "SpUvYOf51gt9",
        "outputId": "2ef8aa8b-5158-4012-bd88-254d166d9052"
      },
      "execution_count": 171,
      "outputs": [
        {
          "output_type": "stream",
          "name": "stdout",
          "text": [
            "[array([0.00080537, 0.        , 0.00213798, 0.00218986, 0.00219609,\n",
            "       0.00320281, 0.00347057, 0.00413065, 0.00446276, 0.00491319,\n",
            "       0.00749329, 0.00816997, 0.00640354, 0.00661942, 0.00640977,\n",
            "       0.00598425, 0.00626862, 0.00610465, 0.00605898, 0.00552137,\n",
            "       0.00463712, 0.00530134, 0.00637656, 0.0070906 , 0.00822602,\n",
            "       0.00798938, 0.00829867, 0.00777144, 0.0081762 , 0.00788976,\n",
            "       0.00610049, 0.005895  , 0.00476374, 0.00453749, 0.00618352,\n",
            "       0.00583065, 0.00720685, 0.00624579, 0.00750574, 0.00754726,\n",
            "       0.00793542, 0.00674811, 0.00783786, 0.00820111, 0.00805373,\n",
            "       0.00861625, 0.00821356, 0.00879476, 0.0085353 , 0.00870135,\n",
            "       0.00893175, 0.00864531, 0.00865984, 0.00884457, 0.00871173,\n",
            "       0.00904384, 0.00945691, 0.00965617, 0.00933237, 0.00955654])]\n",
            "[0.009720525422948892]\n",
            "\n",
            "[array([0.00080537, 0.        , 0.00213798, 0.00218986, 0.00219609,\n",
            "       0.00320281, 0.00347057, 0.00413065, 0.00446276, 0.00491319,\n",
            "       0.00749329, 0.00816997, 0.00640354, 0.00661942, 0.00640977,\n",
            "       0.00598425, 0.00626862, 0.00610465, 0.00605898, 0.00552137,\n",
            "       0.00463712, 0.00530134, 0.00637656, 0.0070906 , 0.00822602,\n",
            "       0.00798938, 0.00829867, 0.00777144, 0.0081762 , 0.00788976,\n",
            "       0.00610049, 0.005895  , 0.00476374, 0.00453749, 0.00618352,\n",
            "       0.00583065, 0.00720685, 0.00624579, 0.00750574, 0.00754726,\n",
            "       0.00793542, 0.00674811, 0.00783786, 0.00820111, 0.00805373,\n",
            "       0.00861625, 0.00821356, 0.00879476, 0.0085353 , 0.00870135,\n",
            "       0.00893175, 0.00864531, 0.00865984, 0.00884457, 0.00871173,\n",
            "       0.00904384, 0.00945691, 0.00965617, 0.00933237, 0.00955654]), array([0.        , 0.00213798, 0.00218986, 0.00219609, 0.00320281,\n",
            "       0.00347057, 0.00413065, 0.00446276, 0.00491319, 0.00749329,\n",
            "       0.00816997, 0.00640354, 0.00661942, 0.00640977, 0.00598425,\n",
            "       0.00626862, 0.00610465, 0.00605898, 0.00552137, 0.00463712,\n",
            "       0.00530134, 0.00637656, 0.0070906 , 0.00822602, 0.00798938,\n",
            "       0.00829867, 0.00777144, 0.0081762 , 0.00788976, 0.00610049,\n",
            "       0.005895  , 0.00476374, 0.00453749, 0.00618352, 0.00583065,\n",
            "       0.00720685, 0.00624579, 0.00750574, 0.00754726, 0.00793542,\n",
            "       0.00674811, 0.00783786, 0.00820111, 0.00805373, 0.00861625,\n",
            "       0.00821356, 0.00879476, 0.0085353 , 0.00870135, 0.00893175,\n",
            "       0.00864531, 0.00865984, 0.00884457, 0.00871173, 0.00904384,\n",
            "       0.00945691, 0.00965617, 0.00933237, 0.00955654, 0.00972053])]\n",
            "[0.009720525422948892, 0.009683161874312576]\n",
            "\n"
          ]
        }
      ]
    },
    {
      "cell_type": "code",
      "source": [
        "x_train, y_train = np.array(x_train), np.array(y_train)\n",
        "x_train = np.reshape(x_train, (x_train.shape[0], x_train.shape[1], 1))"
      ],
      "metadata": {
        "id": "Mx9RN0_82CK2"
      },
      "execution_count": 172,
      "outputs": []
    },
    {
      "cell_type": "code",
      "source": [
        "from keras.models import Sequential\n",
        "from keras.layers import Dense, LSTM"
      ],
      "metadata": {
        "id": "BNnEm4KW36Mm"
      },
      "execution_count": 173,
      "outputs": []
    },
    {
      "cell_type": "code",
      "source": [
        "model = Sequential()\n",
        "model.add(LSTM(128, return_sequences=True, input_shape= (x_train.shape[1], 1)))\n",
        "model.add(LSTM(64, return_sequences=False))\n",
        "model.add(Dense(1))\n",
        "model.compile(optimizer='adam', loss='mean_squared_error')\n",
        "model.fit(x_train, y_train, batch_size=1, epochs=1)"
      ],
      "metadata": {
        "colab": {
          "base_uri": "https://localhost:8080/"
        },
        "id": "WVpj_e3y4J6V",
        "outputId": "13c28470-9ca7-4bb0-a9bf-6f202b13f76c"
      },
      "execution_count": 192,
      "outputs": [
        {
          "output_type": "stream",
          "name": "stdout",
          "text": [
            "2810/2810 [==============================] - 112s 38ms/step - loss: 0.0010\n"
          ]
        },
        {
          "output_type": "execute_result",
          "data": {
            "text/plain": [
              "<keras.callbacks.History at 0x7f122732fc90>"
            ]
          },
          "metadata": {},
          "execution_count": 192
        }
      ]
    },
    {
      "cell_type": "code",
      "source": [
        "test_data = scaled_data[training_len - 60: , :]\n",
        "x_test = []\n",
        "y_test = dataset[training_len:, :]\n",
        "for i in range(60, len(test_data)):\n",
        "    x_test.append(test_data[i-60:i, 0])\n",
        "x_test = np.array(x_test)\n",
        "x_test = np.reshape(x_test, (x_test.shape[0], x_test.shape[1], 1 ))\n",
        "predictions = model.predict(x_test)\n",
        "predictions = scaler.inverse_transform(predictions)\n",
        "rmse = np.sqrt(np.mean(((predictions - y_test) ** 2)))\n",
        "rmse"
      ],
      "metadata": {
        "colab": {
          "base_uri": "https://localhost:8080/"
        },
        "id": "6aqrSPMc4R2F",
        "outputId": "65fedab7-6f74-406b-c74f-e87dc42cc905"
      },
      "execution_count": 193,
      "outputs": [
        {
          "output_type": "execute_result",
          "data": {
            "text/plain": [
              "7.021445528023365"
            ]
          },
          "metadata": {},
          "execution_count": 193
        }
      ]
    },
    {
      "cell_type": "code",
      "source": [
        "train = training_data[:training_len]\n",
        "valid = training_data[training_len:]\n",
        "valid['Predictions'] = predictions\n",
        "plt.figure(figsize=(16,6))\n",
        "plt.title('Model')\n",
        "plt.xlabel('Date', fontsize=18)\n",
        "plt.ylabel('Close Price USD ($)', fontsize=18)\n",
        "plt.plot(train['Close'])\n",
        "plt.plot(valid[['Close', 'Predictions']])\n",
        "plt.legend(['Train', 'Val', 'Predictions'], loc='lower right')\n",
        "plt.show()"
      ],
      "metadata": {
        "colab": {
          "base_uri": "https://localhost:8080/",
          "height": 412
        },
        "id": "5jJAC6Q95kOt",
        "outputId": "86514935-b458-416e-d239-643454e8a09b"
      },
      "execution_count": 194,
      "outputs": [
        {
          "output_type": "display_data",
          "data": {
            "text/plain": [
              "<Figure size 1152x432 with 1 Axes>"
            ],
            "image/png": "[encoded data removed]"
          },
          "metadata": {
            "needs_background": "light"
          }
        }
      ]
    }
  ]
}